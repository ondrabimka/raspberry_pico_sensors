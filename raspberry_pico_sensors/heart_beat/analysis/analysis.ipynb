{
 "cells": [
  {
   "cell_type": "code",
   "execution_count": 1,
   "metadata": {},
   "outputs": [],
   "source": [
    "import pandas as pd"
   ]
  },
  {
   "cell_type": "code",
   "execution_count": 2,
   "metadata": {},
   "outputs": [],
   "source": [
    "empty_test = pd.read_csv(\"data\\\\EmptyTest.txt\", names=['empty_test'])\n",
    "pressed = pd.read_csv(\"data\\\\Pressed.txt\", names=['pressed'])\n",
    "pressed_test = pd.read_csv(\"data\\\\PressedTest.txt\", names=['pressed_test'])\n",
    "\n",
    "all = pd.concat([empty_test, pressed, pressed_test], axis=1)\n",
    "all.plot()"
   ]
  }
 ],
 "metadata": {
  "kernelspec": {
   "display_name": "embedded",
   "language": "python",
   "name": "python3"
  },
  "language_info": {
   "codemirror_mode": {
    "name": "ipython",
    "version": 3
   },
   "file_extension": ".py",
   "mimetype": "text/x-python",
   "name": "python",
   "nbconvert_exporter": "python",
   "pygments_lexer": "ipython3",
   "version": "3.8.12"
  },
  "orig_nbformat": 4
 },
 "nbformat": 4,
 "nbformat_minor": 2
}
